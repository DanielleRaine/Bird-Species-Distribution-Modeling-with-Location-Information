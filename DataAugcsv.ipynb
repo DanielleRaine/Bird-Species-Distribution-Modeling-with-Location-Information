{
  "nbformat": 4,
  "nbformat_minor": 0,
  "metadata": {
    "colab": {
      "provenance": [],
      "authorship_tag": "ABX9TyOIK1aQ2rcUVdPy5+vHdm0V",
      "include_colab_link": true
    },
    "kernelspec": {
      "name": "python3",
      "display_name": "Python 3"
    },
    "language_info": {
      "name": "python"
    }
  },
  "cells": [
    {
      "cell_type": "markdown",
      "metadata": {
        "id": "view-in-github",
        "colab_type": "text"
      },
      "source": [
        "<a href=\"https://colab.research.google.com/github/DanielleRaine/Bird-Species-Distribution-Modeling-with-Location-Information/blob/main/DataAugcsv.ipynb\" target=\"_parent\"><img src=\"https://colab.research.google.com/assets/colab-badge.svg\" alt=\"Open In Colab\"/></a>"
      ]
    },
    {
      "cell_type": "code",
      "execution_count": null,
      "metadata": {
        "id": "6dxhX-fVVogx"
      },
      "outputs": [],
      "source": [
        "import numpy as np\n",
        "import pandas as pd"
      ]
    },
    {
      "cell_type": "code",
      "source": [],
      "metadata": {
        "id": "yILwmHmNn0ng"
      },
      "execution_count": null,
      "outputs": []
    },
    {
      "cell_type": "code",
      "source": [
        "from google.colab import drive\n",
        "drive.mount('/content/drive')"
      ],
      "metadata": {
        "colab": {
          "base_uri": "https://localhost:8080/"
        },
        "id": "NCXeuQYQWJzP",
        "outputId": "d08b6171-b543-4dd2-f7f0-cf17b025ba54"
      },
      "execution_count": null,
      "outputs": [
        {
          "output_type": "stream",
          "name": "stdout",
          "text": [
            "Drive already mounted at /content/drive; to attempt to forcibly remount, call drive.mount(\"/content/drive\", force_remount=True).\n"
          ]
        }
      ]
    },
    {
      "cell_type": "code",
      "source": [
        "# Set file paths (adjust as needed)\n",
        "train_path = \"/content/drive/MyDrive/TeamMila/ProjectDataset/train_split.csv\"\n",
        "test_path = \"/content/drive/MyDrive/TeamMila/ProjectDataset/test_split.csv\"\n",
        "valid_path = \"/content/drive/MyDrive/TeamMila/ProjectDataset/valid_split.csv\""
      ],
      "metadata": {
        "id": "wnLd-EVpWUCi"
      },
      "execution_count": null,
      "outputs": []
    },
    {
      "cell_type": "code",
      "source": [
        "train_df = pd.read_csv(train_path)\n",
        "test_df = pd.read_csv(test_path)\n",
        "valid_df = pd.read_csv(valid_path)"
      ],
      "metadata": {
        "id": "oTspXwlgZLFf"
      },
      "execution_count": null,
      "outputs": []
    },
    {
      "cell_type": "code",
      "source": [
        "def augment_data(data, env_noise=0.05):\n",
        "  augmented_data = data.copy()\n",
        "\n",
        "  environmental_columns = ['orcdrc','phihox','cecsol','bdticm','clyppt','sltppt','sndppt','bldfie','bio_1','bio_2','bio_3','bio_4','bio_5','bio_6','bio_7','bio_8','bio_9','bio_10','bio_11','bio_12','bio_13','bio_14','bio_15','bio_16','bio_17','bio_18','bio_19' ]\n",
        "  for col in environmental_columns:\n",
        "    if col in augmented_data.columns:\n",
        "      augmented_data[col] += np.random.normal(0, env_noise, size=augmented_data[col].shape)\n",
        "\n",
        "  return augmented_data"
      ],
      "metadata": {
        "id": "tjI3MOWtVv1z"
      },
      "execution_count": null,
      "outputs": []
    },
    {
      "cell_type": "code",
      "source": [
        "# Apply augmentation to the datasets\n",
        "augmented_train_df = augment_data(train_df)\n",
        "augmented_val_df = augment_data(valid_df)\n",
        "augmented_test_df = augment_data(test_df)\n",
        "\n",
        "# Save augmented data to CSV\n",
        "augmented_train_df.to_csv('/content/drive/MyDrive/TeamMila/ProjectDataset/augmented_train.csv', index=False)\n",
        "augmented_val_df.to_csv('/content/drive/MyDrive/TeamMila/ProjectDataset/augmented_val.csv', index=False)\n",
        "augmented_test_df.to_csv('/content/drive/MyDrive/TeamMila/ProjectDataset/augmented_test.csv', index=False)\n",
        "\n",
        "print(\"Augmented datasets saved as CSV.\")\n"
      ],
      "metadata": {
        "colab": {
          "base_uri": "https://localhost:8080/"
        },
        "id": "h-uzInxaXWIp",
        "outputId": "f1b80f24-355d-4700-c55f-0025c1ce1ce3"
      },
      "execution_count": null,
      "outputs": [
        {
          "output_type": "stream",
          "name": "stdout",
          "text": [
            "Augmented datasets saved as CSV.\n"
          ]
        }
      ]
    }
  ]
}