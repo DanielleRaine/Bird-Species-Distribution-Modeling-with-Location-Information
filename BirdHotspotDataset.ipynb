{
  "nbformat": 4,
  "nbformat_minor": 0,
  "metadata": {
    "colab": {
      "provenance": [],
      "authorship_tag": "ABX9TyN2KcV36flzT/3IfFzVHt54",
      "include_colab_link": true
    },
    "kernelspec": {
      "name": "python3",
      "display_name": "Python 3"
    },
    "language_info": {
      "name": "python"
    }
  },
  "cells": [
    {
      "cell_type": "markdown",
      "metadata": {
        "id": "view-in-github",
        "colab_type": "text"
      },
      "source": [
        "<a href=\"https://colab.research.google.com/github/DanielleRaine/Bird-Species-Distribution-Modeling-with-Location-Information/blob/main/BirdHotspotDataset.ipynb\" target=\"_parent\"><img src=\"https://colab.research.google.com/assets/colab-badge.svg\" alt=\"Open In Colab\"/></a>"
      ]
    },
    {
      "cell_type": "code",
      "source": [
        "import os\n",
        "import json\n",
        "import pandas as pd\n",
        "import torch\n",
        "from torch.utils.data import Dataset"
      ],
      "metadata": {
        "id": "FIEbdJf-5fRo"
      },
      "execution_count": 94,
      "outputs": []
    },
    {
      "cell_type": "code",
      "source": [
        "class BirdHotspotsDataset(Dataset):\n",
        "  \"\"\"\n",
        "  Dataset for Bird Species Distribution Modeling with Location Information (Bird Hotspots).\n",
        "  \"\"\"\n",
        "\n",
        "  def __init__(self, csv_file, targets_dir):\n",
        "    \"\"\"\n",
        "    Args:\n",
        "      csv_file (string): Path to the csv file.\n",
        "      targets_dir (string): Directory with all the target files.\n",
        "    \"\"\"\n",
        "\n",
        "    self.data = pd.read_csv(csv_file)\n",
        "    self.targets_dir = targets_dir\n",
        "\n",
        "  def __len__(self):\n",
        "    \"\"\"\n",
        "    Returns the length of the dataset.\n",
        "    Returns:\n",
        "      length (int): Length of the dataset.\n",
        "    \"\"\"\n",
        "\n",
        "    return len(self.data)\n",
        "\n",
        "  def __getitem__(self, idx):\n",
        "    \"\"\"\n",
        "    Returns the record and its target.\n",
        "    Args:\n",
        "      idx (int): Index of the record.\n",
        "    Returns:\n",
        "      record (torch.Tensor): Record.\n",
        "      target (torch.Tensor): Target.\n",
        "    \"\"\"\n",
        "\n",
        "    # Get the environmental + location data for one record.\n",
        "    record = self.data.iloc[idx]\n",
        "\n",
        "    # Get the target (label) path for the record.\n",
        "    target_path = os.path.join(self.targets_dir, record.loc[\"hotspot_id\"] + \".json\")\n",
        "    # Get the target and convert it into a tensor.\n",
        "    with open(target_path) as f:\n",
        "      target = torch.tensor(json.load(f)[\"probs\"], dtype = torch.float32)\n",
        "\n",
        "    # Convert the record into a tensor and return it and its target.\n",
        "    return torch.tensor(pd.to_numeric(record, errors = \"coerce\").dropna()), target"
      ],
      "metadata": {
        "id": "2awrCJN95kt5"
      },
      "execution_count": 132,
      "outputs": []
    },
    {
      "cell_type": "code",
      "source": [
        "# targets_dir = \"/content/drive/MyDrive/Team Mila/Project Dataset/targets\"\n",
        "\n",
        "# training_data = BirdHotspotsDataset(\"/content/drive/MyDrive/Team Mila/Project Dataset/train_split.csv\", targets_dir)\n",
        "# test_data = BirdHotspotsDataset(\"/content/drive/MyDrive/Team Mila/Project Dataset/test_split.csv\", targets_dir)"
      ],
      "metadata": {
        "id": "zVlnpnsO6AWe"
      },
      "execution_count": 111,
      "outputs": []
    },
    {
      "cell_type": "code",
      "source": [
        "# from torch.utils.data import DataLoader"
      ],
      "metadata": {
        "id": "bTEECrFDKFDA"
      },
      "execution_count": 112,
      "outputs": []
    },
    {
      "cell_type": "code",
      "source": [
        "# train_dataloader = DataLoader(training_data, batch_size=64, shuffle=True)\n",
        "# test_dataloader = DataLoader(test_data, batch_size=64, shuffle=True)"
      ],
      "metadata": {
        "id": "E-LqQHjvPRNi"
      },
      "execution_count": 113,
      "outputs": []
    },
    {
      "cell_type": "code",
      "source": [
        "# train_features, train_labels = next(iter(train_dataloader))"
      ],
      "metadata": {
        "colab": {
          "base_uri": "https://localhost:8080/"
        },
        "id": "I5XYtjACOUUu",
        "outputId": "eb774608-cdb2-4ab1-dd99-44457746b888"
      },
      "execution_count": 114,
      "outputs": [
        {
          "output_type": "stream",
          "name": "stderr",
          "text": [
            "<ipython-input-110-28bca0fc388f>:34: FutureWarning: Series.__getitem__ treating keys as positions is deprecated. In a future version, integer keys will always be treated as labels (consistent with DataFrame behavior). To access a value by position, use `ser.iloc[pos]`\n",
            "  return torch.tensor(pd.to_numeric(record, errors=\"coerce\").dropna()), target\n"
          ]
        }
      ]
    },
    {
      "cell_type": "code",
      "source": [
        "# print(f\"Feature batch shape: {train_features.size()}\")\n",
        "# print(f\"Labels batch shape: {train_labels.size()}\")"
      ],
      "metadata": {
        "colab": {
          "base_uri": "https://localhost:8080/"
        },
        "id": "8sY2cuyrRSCH",
        "outputId": "db740ab3-82e7-453a-dd73-93839a28bf2e"
      },
      "execution_count": 115,
      "outputs": [
        {
          "output_type": "stream",
          "name": "stdout",
          "text": [
            "Feature batch shape: torch.Size([64, 31])\n",
            "Labels batch shape: torch.Size([64, 670])\n"
          ]
        }
      ]
    },
    {
      "cell_type": "code",
      "source": [
        "# record = train_features[4]\n",
        "# label = train_labels[4]"
      ],
      "metadata": {
        "id": "6FuhE23dTC7Z"
      },
      "execution_count": 123,
      "outputs": []
    },
    {
      "cell_type": "code",
      "source": [
        "# record"
      ],
      "metadata": {
        "colab": {
          "base_uri": "https://localhost:8080/"
        },
        "id": "00HdHwvDTaY8",
        "outputId": "82801ac6-c930-484f-a14f-e476c70d5f3a"
      },
      "execution_count": 124,
      "outputs": [
        {
          "output_type": "execute_result",
          "data": {
            "text/plain": [
              "tensor([ -89.0184,   45.7751,   40.0000,   81.0000,    4.1917,   12.0000,\n",
              "          28.0374, 1119.0415,   24.8000,  -18.0000,   42.8000,   16.2667,\n",
              "         -10.2500,   17.3333,  -10.2500,  800.0000,  109.0000,   23.0000,\n",
              "          43.8818,  301.0000,   92.0000,  295.0000,   92.0000, 1800.0000,\n",
              "        1289.0000,   11.0000,    4.0000,   34.0000,   48.0000,   30.0000,\n",
              "          66.0000], dtype=torch.float64)"
            ]
          },
          "metadata": {},
          "execution_count": 124
        }
      ]
    },
    {
      "cell_type": "code",
      "source": [
        "# label"
      ],
      "metadata": {
        "colab": {
          "base_uri": "https://localhost:8080/"
        },
        "id": "GxKPCWDgTa5T",
        "outputId": "b8d545fa-e23c-45da-c5d9-c2bdcdbc10bf"
      },
      "execution_count": 125,
      "outputs": [
        {
          "output_type": "execute_result",
          "data": {
            "text/plain": [
              "tensor([0.0000, 0.0000, 0.0000, 0.0000, 0.0000, 0.0000, 0.0000, 0.0000, 0.0000,\n",
              "        0.0000, 0.0000, 0.0000, 0.0000, 0.0000, 0.0000, 0.1750, 0.0000, 0.0000,\n",
              "        0.1500, 0.0000, 0.0000, 0.0000, 0.0000, 0.0000, 0.0000, 0.0000, 0.0000,\n",
              "        0.0000, 0.0000, 0.0000, 0.0000, 0.0000, 0.0000, 0.0000, 0.0000, 0.0000,\n",
              "        0.0000, 0.1000, 0.0000, 0.0000, 0.0000, 0.0000, 0.0000, 0.0000, 0.0000,\n",
              "        0.0000, 0.0000, 0.0000, 0.0000, 0.0000, 0.0000, 0.0000, 0.0000, 0.0000,\n",
              "        0.0000, 0.0000, 0.0000, 0.0000, 0.0000, 0.0000, 0.0000, 0.0500, 0.0000,\n",
              "        0.1250, 0.0000, 0.0000, 0.0000, 0.0000, 0.0000, 0.0000, 0.0000, 0.0000,\n",
              "        0.0000, 0.0000, 0.0000, 0.0000, 0.0000, 0.0000, 0.0000, 0.0000, 0.0000,\n",
              "        0.0750, 0.0000, 0.0000, 0.0000, 0.0000, 0.0000, 0.0000, 0.0000, 0.0000,\n",
              "        0.3250, 0.0000, 0.0250, 0.0000, 0.0000, 0.0000, 0.0250, 0.0000, 0.0000,\n",
              "        0.0000, 0.0000, 0.0000, 0.0000, 0.0000, 0.0000, 0.0000, 0.0000, 0.0000,\n",
              "        0.0000, 0.0000, 0.0000, 0.0000, 0.0000, 0.0750, 0.0000, 0.0000, 0.0000,\n",
              "        0.0000, 0.0000, 0.0000, 0.0000, 0.0000, 0.0000, 0.0000, 0.0000, 0.0000,\n",
              "        0.0000, 0.0000, 0.0000, 0.0000, 0.0000, 0.0000, 0.0000, 0.0000, 0.0000,\n",
              "        0.0000, 0.0000, 0.0000, 0.0000, 0.0000, 0.0000, 0.0000, 0.0000, 0.0000,\n",
              "        0.0000, 0.0000, 0.0000, 0.0000, 0.0000, 0.0000, 0.0000, 0.0000, 0.0000,\n",
              "        0.0250, 0.0000, 0.0250, 0.4750, 0.0000, 0.0000, 0.0000, 0.0000, 0.0000,\n",
              "        0.0000, 0.0000, 0.0000, 0.0000, 0.1500, 0.0000, 0.0000, 0.0000, 0.0000,\n",
              "        0.0000, 0.0000, 0.0000, 0.0000, 0.0000, 0.0000, 0.0000, 0.0000, 0.0000,\n",
              "        0.0000, 0.0000, 0.0000, 0.0000, 0.0000, 0.0000, 0.0000, 0.0000, 0.0000,\n",
              "        0.0000, 0.0000, 0.0500, 0.0000, 0.3500, 0.0000, 0.0000, 0.0000, 0.0000,\n",
              "        0.0000, 0.1750, 0.0000, 0.0000, 0.0750, 0.0000, 0.0000, 0.0250, 0.2000,\n",
              "        0.0000, 0.0000, 0.0000, 0.0000, 0.0000, 0.3750, 0.0000, 0.0000, 0.3000,\n",
              "        0.0000, 0.0000, 0.0000, 0.0000, 0.0000, 0.0000, 0.0000, 0.0000, 0.0000,\n",
              "        0.0000, 0.0000, 0.0000, 0.0000, 0.0000, 0.1000, 0.0000, 0.0500, 0.1250,\n",
              "        0.0000, 0.0000, 0.0000, 0.0000, 0.0000, 0.0000, 0.0000, 0.3000, 0.0000,\n",
              "        0.0250, 0.0000, 0.0000, 0.0750, 0.0000, 0.0000, 0.0000, 0.0000, 0.0000,\n",
              "        0.0000, 0.0000, 0.0000, 0.0000, 0.0000, 0.0500, 0.0000, 0.0000, 0.0000,\n",
              "        0.0000, 0.0000, 0.0000, 0.0000, 0.0000, 0.0000, 0.0000, 0.0000, 0.0000,\n",
              "        0.0000, 0.0000, 0.2000, 0.0000, 0.0000, 0.0000, 0.0000, 0.0000, 0.0000,\n",
              "        0.0000, 0.0000, 0.6250, 0.0000, 0.0000, 0.0000, 0.0000, 0.0000, 0.0000,\n",
              "        0.0000, 0.0000, 0.0000, 0.0250, 0.0000, 0.0000, 0.0000, 0.0000, 0.0000,\n",
              "        0.0000, 0.0000, 0.0000, 0.0000, 0.0000, 0.0000, 0.0000, 0.0750, 0.0000,\n",
              "        0.0000, 0.0000, 0.0000, 0.0000, 0.0000, 0.0000, 0.0000, 0.0000, 0.0000,\n",
              "        0.0000, 0.0000, 0.0500, 0.0000, 0.0000, 0.0000, 0.0000, 0.0000, 0.0000,\n",
              "        0.0000, 0.0000, 0.0000, 0.0000, 0.0000, 0.0000, 0.0000, 0.0000, 0.0000,\n",
              "        0.0000, 0.0000, 0.0000, 0.0000, 0.0000, 0.6000, 0.0000, 0.0000, 0.0000,\n",
              "        0.0000, 0.0000, 0.0000, 0.0000, 0.0000, 0.0000, 0.0000, 0.0000, 0.0000,\n",
              "        0.0000, 0.0000, 0.0000, 0.0250, 0.0000, 0.0250, 0.0000, 0.0000, 0.0000,\n",
              "        0.0000, 0.0250, 0.0000, 0.0000, 0.0000, 0.0000, 0.0000, 0.0000, 0.0000,\n",
              "        0.0000, 0.0000, 0.0000, 0.0000, 0.0000, 0.0000, 0.0000, 0.6500, 0.1500,\n",
              "        0.7250, 0.0000, 0.0000, 0.0000, 0.0000, 0.0000, 0.0000, 0.0000, 0.0500,\n",
              "        0.0000, 0.0250, 0.0000, 0.0000, 0.0000, 0.0000, 0.2750, 0.0000, 0.0000,\n",
              "        0.0000, 0.0000, 0.0000, 0.0000, 0.0000, 0.0000, 0.0000, 0.0000, 0.0000,\n",
              "        0.0000, 0.0000, 0.0000, 0.0000, 0.0000, 0.0000, 0.0000, 0.0000, 0.0000,\n",
              "        0.0000, 0.0000, 0.0250, 0.0000, 0.0000, 0.0250, 0.0000, 0.0000, 0.0000,\n",
              "        0.0000, 0.0000, 0.0000, 0.0000, 0.0500, 0.0000, 0.0000, 0.0000, 0.0000,\n",
              "        0.0000, 0.0000, 0.0000, 0.0000, 0.0250, 0.0000, 0.0000, 0.0000, 0.0000,\n",
              "        0.0000, 0.0000, 0.0000, 0.0000, 0.0000, 0.0000, 0.0000, 0.0000, 0.0000,\n",
              "        0.0000, 0.0000, 0.1250, 0.0000, 0.0000, 0.0000, 0.0000, 0.0000, 0.0000,\n",
              "        0.0000, 0.0000, 0.0000, 0.0000, 0.0000, 0.0000, 0.0000, 0.0000, 0.0000,\n",
              "        0.0000, 0.0000, 0.0000, 0.0000, 0.0000, 0.0000, 0.0000, 0.0000, 0.0000,\n",
              "        0.0000, 0.0000, 0.0500, 0.3000, 0.0000, 0.0000, 0.0250, 0.0000, 0.0000,\n",
              "        0.0000, 0.0000, 0.0000, 0.0000, 0.0000, 0.0000, 0.0000, 0.0000, 0.0000,\n",
              "        0.0000, 0.0000, 0.0000, 0.0000, 0.0000, 0.0000, 0.0000, 0.0000, 0.0000,\n",
              "        0.0000, 0.0000, 0.0000, 0.0000, 0.0000, 0.0000, 0.0000, 0.0000, 0.0000,\n",
              "        0.0000, 0.0000, 0.0000, 0.0000, 0.2500, 0.0000, 0.0000, 0.0000, 0.0000,\n",
              "        0.0000, 0.0000, 0.0000, 0.0000, 0.0000, 0.0000, 0.0000, 0.3250, 0.0000,\n",
              "        0.0000, 0.0000, 0.0000, 0.2000, 0.0000, 0.0000, 0.0000, 0.0000, 0.0000,\n",
              "        0.3250, 0.0000, 0.0000, 0.4000, 0.0000, 0.0000, 0.0250, 0.0000, 0.0000,\n",
              "        0.0250, 0.1250, 0.0250, 0.3250, 0.0500, 0.0000, 0.0250, 0.0000, 0.4750,\n",
              "        0.0000, 0.0000, 0.0250, 0.0000, 0.6750, 0.0500, 0.0000, 0.0000, 0.0000,\n",
              "        0.0000, 0.0000, 0.0000, 0.0000, 0.0000, 0.0000, 0.0000, 0.1000, 0.0000,\n",
              "        0.0000, 0.0000, 0.0750, 0.0000, 0.0000, 0.0000, 0.0000, 0.1500, 0.0000,\n",
              "        0.0000, 0.0000, 0.0000, 0.0000, 0.0000, 0.0000, 0.0000, 0.0000, 0.0000,\n",
              "        0.0000, 0.0000, 0.0000, 0.0000, 0.0000, 0.0000, 0.0000, 0.0000, 0.0000,\n",
              "        0.0000, 0.0000, 0.0000, 0.0500, 0.0000, 0.0000, 0.0000, 0.0000, 0.0000,\n",
              "        0.0000, 0.0000, 0.0000, 0.0000, 0.0000, 0.0000, 0.0000, 0.0000, 0.0000,\n",
              "        0.0000, 0.0000, 0.0000, 0.0000, 0.0000, 0.0000, 0.3750, 0.0000, 0.0000,\n",
              "        0.0000, 0.4000, 0.0000, 0.0000, 0.0000, 0.0000, 0.0000, 0.0000, 0.0000,\n",
              "        0.2000, 0.0000, 0.0000, 0.0000, 0.0000, 0.0000, 0.0000, 0.0000, 0.0250,\n",
              "        0.0000, 0.0000, 0.0000, 0.0000, 0.0000, 0.0250, 0.0000, 0.0000, 0.0000,\n",
              "        0.6750, 0.0000, 0.0000, 0.3750, 0.0000, 0.0000, 0.0000, 0.0000, 0.0750,\n",
              "        0.6000, 0.0000, 0.0000, 0.0000])"
            ]
          },
          "metadata": {},
          "execution_count": 125
        }
      ]
    },
    {
      "cell_type": "code",
      "source": [],
      "metadata": {
        "id": "8zsUXx4iTble"
      },
      "execution_count": null,
      "outputs": []
    }
  ]
}